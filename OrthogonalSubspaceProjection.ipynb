{
 "cells": [
  {
   "cell_type": "markdown",
   "metadata": {},
   "source": [
    "# Orthogonal Subspace Projection algorithms\n",
    "We try to application OSP approach.\n",
    "\n",
    "Prepared Data:\n",
    "\n",
    "* MixtureA = sin + square\n",
    "\n",
    "* MixtureB = sin + square + triangle\n",
    "\n",
    "OSP input: \n",
    "\n",
    "* $U$ = [sin signal, squre signal]\n",
    "\n",
    "* $D$ = [triangle signal]\n"
   ]
  },
  {
   "cell_type": "code",
   "execution_count": 1,
   "metadata": {},
   "outputs": [],
   "source": [
    "# import libraries\n",
    "\n",
    "import numpy as np\n",
    "import matplotlib.pyplot as plt\n",
    "from numpy.linalg import inv\n",
    "from scipy import signal\n",
    "import random\n",
    "import math"
   ]
  },
  {
   "cell_type": "code",
   "execution_count": 2,
   "metadata": {},
   "outputs": [],
   "source": [
    "def preprocess(size):\n",
    "    i = np.arange(0,1,1.0/size) * 2 * np.pi\n",
    "    rawSignal = [[1+np.sin(t), 1+signal.square(t), signal.sawtooth(2*np.pi*t)] for t in i]\n",
    "    \n",
    "    mixture = [[None]*size,[None]*size]\n",
    "    u, d = np.zeros([100,2], dtype=float), np.zeros([100,1], dtype=float)\n",
    "    \n",
    "    for i, (sin, square, triangle) in enumerate(rawSignal):\n",
    "        mixture[0][i] = sin + square\n",
    "        mixture[1][i] = sin + square + triangle\n",
    "        u[i][0], u[i][1] = sin, square\n",
    "        d[i][0] = triangle\n",
    "    \n",
    "    return u, d, np.array(mixture[0]), np.array(mixture[1])"
   ]
  },
  {
   "cell_type": "code",
   "execution_count": 3,
   "metadata": {},
   "outputs": [],
   "source": [
    "class Solution(object):\n",
    "    def osp_train(self, u):\n",
    "        uT = np.transpose(u)\n",
    "        uTu = uT.dot(u)\n",
    "        uTu_inverce = inv(uTu)\n",
    "        uTu_inverce_uT = uTu_inverce.dot(uT)\n",
    "        id_matrix = np.identity(SAMPLE_POINTS)\n",
    "        u_uTu_invers_uT = u.dot(uTu_inverce_uT)\n",
    "        PuT = id_matrix-u_uTu_invers_uT\n",
    "        return PuT\n",
    "    def osp_test(self, PuT,d,x):\n",
    "        \"\"\"\n",
    "        : PuT: the output of OSP during training\n",
    "        : d  : the desire detected object \n",
    "        : x  : input from test case\n",
    "        \"\"\"\n",
    "        PuTR=np.transpose(np.array([x.dot(PuT)])) # R the spectral (PuT*R)\n",
    "        PuTR_TR=np.transpose(d) # transpose of D\n",
    "\n",
    "        return PuTR_TR.dot(PuTR)[0][0]"
   ]
  },
  {
   "cell_type": "code",
   "execution_count": 4,
   "metadata": {},
   "outputs": [],
   "source": [
    "class VisualizeTool(object):\n",
    "    def subplot(self, x, title=None):\n",
    "        size = -(-math.sqrt(len(x)) // 1)\n",
    "        for i in range(len(x)):\n",
    "            plt.subplot(size, size, i+1)\n",
    "            plt.title(title[i])\n",
    "            plt.plot(x[i])\n",
    "        return \n",
    "    def plt_cuz(self,x,y,title=None):\n",
    "        plt.figure()\n",
    "        plt.plot(y)\n",
    "        plt.ylabel('Scores')\n",
    "        plt.title(title)\n",
    "        xtick = ['B' if k else 'A' for k in x]\n",
    "        plt.xticks(range(len(x)), xtick)\n",
    "        return"
   ]
  },
  {
   "cell_type": "code",
   "execution_count": 6,
   "metadata": {},
   "outputs": [
    {
     "data": {
      "image/png": "[encoded data removed]",
      "text/plain": [
       "<Figure size 432x288 with 2 Axes>"
      ]
     },
     "metadata": {
      "needs_background": "light"
     },
     "output_type": "display_data"
    },
    {
     "data": {
      "image/png": "[encoded data removed]",
      "text/plain": [
       "<Figure size 432x288 with 1 Axes>"
      ]
     },
     "metadata": {
      "needs_background": "light"
     },
     "output_type": "display_data"
    }
   ],
   "source": [
    "if __name__ == '__main__':\n",
    "    # preprocess\n",
    "    SAMPLE_POINTS = 100\n",
    "    u, d, mixtureA, mixtureB = preprocess(size=SAMPLE_POINTS)\n",
    "    \n",
    "    # osp\n",
    "    method = Solution()\n",
    "    PuT = method.osp_train(u)\n",
    "    \n",
    "    # example\n",
    "    testNum = 10\n",
    "    data = [mixtureA, mixtureB]\n",
    "    seed = [random.randint(0,1) for x in range(testNum)]\n",
    "    \n",
    "    testCase = [data[x] for x in seed]\n",
    "    rst = [method.osp_test(PuT,d,x) for x in testCase]\n",
    "    \n",
    "    # visualize input\n",
    "    display = VisualizeTool()\n",
    "    display.subplot(x=[mixtureA, mixtureB], title=['Input: Signal A','Input: Signal B'])\n",
    "    display.plt_cuz(x=seed,y=rst,title='Scores by OSP')\n",
    "\n",
    "    "
   ]
  },
  {
   "cell_type": "code",
   "execution_count": null,
   "metadata": {},
   "outputs": [],
   "source": []
  }
 ],
 "metadata": {
  "kernelspec": {
   "display_name": "Python 3",
   "language": "python",
   "name": "python3"
  },
  "language_info": {
   "codemirror_mode": {
    "name": "ipython",
    "version": 3
   },
   "file_extension": ".py",
   "mimetype": "text/x-python",
   "name": "python",
   "nbconvert_exporter": "python",
   "pygments_lexer": "ipython3",
   "version": "3.7.1"
  }
 },
 "nbformat": 4,
 "nbformat_minor": 1
}
